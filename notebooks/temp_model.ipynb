{
 "cells": [
  {
   "cell_type": "code",
   "execution_count": 1,
   "metadata": {},
   "outputs": [],
   "source": [
    "# Import necessary libraries\n",
    "import pandas as pd\n",
    "import numpy as np\n",
    "import matplotlib.pyplot as plt\n",
    "import seaborn as sns\n",
    "\n",
    "from sklearn.model_selection import train_test_split, GridSearchCV\n",
    "from sklearn.preprocessing import StandardScaler\n",
    "from sklearn.metrics import precision_score, accuracy_score, recall_score\n",
    "from xgboost import XGBClassifier\n",
    "import xgboost as xgb\n",
    "\n",
    "from imblearn.over_sampling import SMOTE\n",
    "from imblearn.under_sampling import RandomUnderSampler\n",
    "from imblearn.pipeline import Pipeline\n",
    "from imblearn.combine import SMOTEENN\n",
    "from sklearn.impute import SimpleImputer\n",
    "\n",
    "# Suppress warnings for cleaner output\n",
    "import warnings\n",
    "warnings.filterwarnings('ignore')   "
   ]
  },
  {
   "cell_type": "code",
   "execution_count": 2,
   "metadata": {},
   "outputs": [],
   "source": [
    "# Load training data (transactions)\n",
    "train_data = pd.read_csv('/Users/sakshiii/Desktop/credit_card_fraud_detection/data/train.csv')       \n",
    "\n",
    "# Load customer data\n",
    "customer_data = pd.read_csv('/Users/sakshiii/Desktop/credit_card_fraud_detection/data/customer.csv') \n",
    "\n",
    "# Load terminal (merchant) data\n",
    "terminal_data = pd.read_csv('/Users/sakshiii/Desktop/credit_card_fraud_detection/data/terminal.csv') "
   ]
  },
  {
   "cell_type": "code",
   "execution_count": 3,
   "metadata": {},
   "outputs": [],
   "source": [
    "# Merge the data\n",
    "train_df = pd.merge(train_data, customer_data, on='CUSTOMER_ID', how='left')  \n",
    "train_df = pd.merge(train_data, terminal_data, on='TERMINAL_ID', how='left')  "
   ]
  },
  {
   "cell_type": "code",
   "execution_count": 4,
   "metadata": {},
   "outputs": [],
   "source": [
    "# Convert TX_DATETIME to datetime format\n",
    "train_df['TX_DATETIME'] = pd.to_datetime(train_df['TX_DATETIME'])\n",
    "\n",
    "# Extracting features\n",
    "train_df[\"hour\"] = train_df['TX_DATETIME'].dt.hour\n",
    "train_df['day_of_week'] = train_df['TX_DATETIME'].dt.day_of_week\n",
    "train_df['month'] = train_df['TX_DATETIME'].dt.month\n",
    "\n",
    "# Transaction Recency (Time since last transaction per customer)\n",
    "train_df['CUSTOMER_RECENCY'] = train_df.groupby('CUSTOMER_ID')['TX_DATETIME'].diff().dt.total_seconds()\n",
    "train_df['TERMINAL_RECENCY'] = train_df.groupby('TERMINAL_ID')['TX_DATETIME'].diff().dt.total_seconds()"
   ]
  },
  {
   "cell_type": "code",
   "execution_count": 5,
   "metadata": {},
   "outputs": [],
   "source": [
    "# Customer Transaction Frequency (transactions per day)\n",
    "train_df['TX_DATE'] = train_df['TX_DATETIME'].dt.date\n",
    "customer_tx_count = train_df.groupby(['CUSTOMER_ID', 'TX_DATE']).size().groupby('CUSTOMER_ID').mean()\n",
    "train_df = train_df.merge(customer_tx_count.rename('CUSTOMER_TX_FREQUENCY'), on='CUSTOMER_ID', how='left')\n",
    "\n",
    "# Customer Fraud History (Has customer been involved in fraud before?)\n",
    "customer_fraud_history = train_df.groupby('CUSTOMER_ID')['TX_FRAUD'].max()\n",
    "train_df = train_df.merge(customer_fraud_history.rename('CUSTOMER_FRAUD_HISTORY'), on='CUSTOMER_ID', how='left')\n",
    "\n",
    "# Average Transaction Amount for the Customer\n",
    "customer_avg_tx = train_df.groupby('CUSTOMER_ID')['TX_AMOUNT'].mean()\n",
    "train_df = train_df.merge(customer_avg_tx.rename('CUSTOMER_AVG_TX_AMOUNT'), on='CUSTOMER_ID', how='left')"
   ]
  },
  {
   "cell_type": "code",
   "execution_count": 6,
   "metadata": {},
   "outputs": [],
   "source": [
    "# Terminal Usage (Total transactions at each terminal)\n",
    "terminal_tx_count = train_df.groupby('TERMINAL_ID').size()\n",
    "train_df = train_df.merge(terminal_tx_count.rename('TERMINAL_TX_COUNT'), on='TERMINAL_ID', how='left')\n",
    "\n",
    "# Terminal Fraud Rate (Proportion of fraudulent transactions at each terminal)\n",
    "terminal_fraud_rate = train_df.groupby('TERMINAL_ID')['TX_FRAUD'].mean()\n",
    "train_df = train_df.merge(terminal_fraud_rate.rename('TERMINAL_FRAUD_RATE'), on='TERMINAL_ID', how='left')\n"
   ]
  },
  {
   "cell_type": "code",
   "execution_count": 7,
   "metadata": {},
   "outputs": [],
   "source": [
    "# Transaction Amount Relative to Customer's Average\n",
    "train_df['TX_AMOUNT_REL_TO_AVG'] = train_df['TX_AMOUNT'] / train_df['CUSTOMER_AVG_TX_AMOUNT']\n",
    "\n",
    "# Transaction Amount Compared to Terminal's Typical Amount (Relative to Terminal's Average)\n",
    "terminal_avg_tx = train_df.groupby('TERMINAL_ID')['TX_AMOUNT'].mean()\n",
    "train_df = train_df.merge(terminal_avg_tx.rename('TERMINAL_AVG_TX_AMOUNT'), on='TERMINAL_ID', how='left')\n",
    "train_df['TX_AMOUNT_REL_TO_TERMINAL_AVG'] = train_df['TX_AMOUNT'] / train_df['TERMINAL_AVG_TX_AMOUNT']\n"
   ]
  },
  {
   "cell_type": "code",
   "execution_count": 8,
   "metadata": {},
   "outputs": [
    {
     "data": {
      "text/plain": [
       "Index(['TRANSACTION_ID', 'TX_DATETIME', 'CUSTOMER_ID', 'TERMINAL_ID',\n",
       "       'TX_AMOUNT', 'TX_FRAUD', 'x_terminal_id', 'y_terminal_id', 'hour',\n",
       "       'day_of_week', 'month', 'CUSTOMER_RECENCY', 'TERMINAL_RECENCY',\n",
       "       'TX_DATE', 'CUSTOMER_TX_FREQUENCY', 'CUSTOMER_FRAUD_HISTORY',\n",
       "       'CUSTOMER_AVG_TX_AMOUNT', 'TERMINAL_TX_COUNT', 'TERMINAL_FRAUD_RATE',\n",
       "       'TX_AMOUNT_REL_TO_AVG', 'TERMINAL_AVG_TX_AMOUNT',\n",
       "       'TX_AMOUNT_REL_TO_TERMINAL_AVG'],\n",
       "      dtype='object')"
      ]
     },
     "execution_count": 8,
     "metadata": {},
     "output_type": "execute_result"
    }
   ],
   "source": [
    "train_df.columns"
   ]
  },
  {
   "cell_type": "code",
   "execution_count": 9,
   "metadata": {},
   "outputs": [
    {
     "data": {
      "text/plain": [
       "0         44327.559985\n",
       "1         44327.559985\n",
       "2         44327.559985\n",
       "3         44327.559985\n",
       "4         44327.559985\n",
       "              ...     \n",
       "291226    36420.000000\n",
       "291227    22085.000000\n",
       "291228    55768.000000\n",
       "291229    37483.000000\n",
       "291230    31763.000000\n",
       "Name: CUSTOMER_RECENCY, Length: 291231, dtype: float64"
      ]
     },
     "execution_count": 9,
     "metadata": {},
     "output_type": "execute_result"
    }
   ],
   "source": [
    "train_df['CUSTOMER_RECENCY'].fillna(train_df['CUSTOMER_RECENCY'].mean())"
   ]
  },
  {
   "cell_type": "code",
   "execution_count": 10,
   "metadata": {},
   "outputs": [],
   "source": [
    "features = ['CUSTOMER_ID', 'TERMINAL_ID', 'TX_AMOUNT','hour', 'day_of_week', 'month',\n",
    "        'CUSTOMER_TX_FREQUENCY', 'CUSTOMER_FRAUD_HISTORY',\n",
    "       'CUSTOMER_AVG_TX_AMOUNT', 'TERMINAL_TX_COUNT', 'TERMINAL_FRAUD_RATE',\n",
    "       'TX_AMOUNT_REL_TO_AVG', 'TERMINAL_AVG_TX_AMOUNT',\n",
    "       'TX_AMOUNT_REL_TO_TERMINAL_AVG']\n",
    "\n",
    "x = train_df[features]\n",
    "y = train_df['TX_FRAUD']"
   ]
  },
  {
   "cell_type": "code",
   "execution_count": 11,
   "metadata": {},
   "outputs": [
    {
     "data": {
      "text/plain": [
       "CUSTOMER_ID                      0\n",
       "TERMINAL_ID                      0\n",
       "TX_AMOUNT                        0\n",
       "hour                             0\n",
       "day_of_week                      0\n",
       "month                            0\n",
       "CUSTOMER_TX_FREQUENCY            0\n",
       "CUSTOMER_FRAUD_HISTORY           0\n",
       "CUSTOMER_AVG_TX_AMOUNT           0\n",
       "TERMINAL_TX_COUNT                0\n",
       "TERMINAL_FRAUD_RATE              0\n",
       "TX_AMOUNT_REL_TO_AVG             0\n",
       "TERMINAL_AVG_TX_AMOUNT           0\n",
       "TX_AMOUNT_REL_TO_TERMINAL_AVG    0\n",
       "dtype: int64"
      ]
     },
     "execution_count": 11,
     "metadata": {},
     "output_type": "execute_result"
    }
   ],
   "source": [
    "x.isnull().sum()"
   ]
  },
  {
   "cell_type": "code",
   "execution_count": 13,
   "metadata": {},
   "outputs": [],
   "source": [
    "# Split data into training and test sets (70% train, 30% test)\n",
    "X_train, X_test, y_train, y_test = train_test_split(x, y, test_size=0.3, random_state=42, stratify=y)\n",
    "\n",
    "\n",
    "# Standardize the features (optional but recommended for XGBoost)\n",
    "scaler = StandardScaler()\n",
    "X_train_scaled = scaler.fit_transform(X_train)\n",
    "X_test_scaled = scaler.transform(X_test)\n",
    "\n",
    "# # Apply SMOTEENN (Combination of SMOTE and ENN) to balance the dataset\n",
    "# # SMOTE oversamples the minority class, and ENN (Edited Nearest Neighbors) undersamples the majority class\n",
    "# smote_enn = SMOTEENN(random_state=42)\n",
    "# X_resampled, y_resampled = smote_enn.fit_resample(X_train_scaled, y_train)\n",
    "\n",
    "# 3. Training the XGBoost model\n",
    "xgb_model = xgb.XGBClassifier(\n",
    "    objective='binary:logistic',\n",
    "    n_estimators=100,  \n",
    "    learning_rate=0.1,\n",
    "    max_depth=6,\n",
    "    subsample=0.8,\n",
    "    colsample_bytree=0.8,\n",
    "    random_state=42,\n",
    "    use_label_encoder=False,\n",
    "    eval_metric='logloss'\n",
    ")\n",
    "\n",
    "xgb_model.fit(X_train_scaled, y_train)\n",
    "\n",
    "# 4. Model Evaluation\n",
    "# Predict on test data\n",
    "y_pred = xgb_model.predict(X_test_scaled)\n",
    "\n"
   ]
  },
  {
   "cell_type": "code",
   "execution_count": 14,
   "metadata": {},
   "outputs": [
    {
     "name": "stdout",
     "output_type": "stream",
     "text": [
      "Accuracy : 97.79%\n",
      "Precision : 85.72%\n",
      "Recall : 51.68%\n"
     ]
    }
   ],
   "source": [
    "# Display the evaluation results\n",
    "print(f\"Accuracy : {round(accuracy_score(y_test, y_pred)*100,2)}%\" )\n",
    "print(f\"Precision : {round(precision_score(y_test, y_pred, average='macro', zero_division=0)*100,2)}%\")\n",
    "print(f\"Recall : {round(recall_score(y_test, y_pred, average='macro', zero_division=0)*100,2)}%\")"
   ]
  },
  {
   "cell_type": "code",
   "execution_count": null,
   "metadata": {},
   "outputs": [],
   "source": []
  }
 ],
 "metadata": {
  "kernelspec": {
   "display_name": "Python 3",
   "language": "python",
   "name": "python3"
  },
  "language_info": {
   "codemirror_mode": {
    "name": "ipython",
    "version": 3
   },
   "file_extension": ".py",
   "mimetype": "text/x-python",
   "name": "python",
   "nbconvert_exporter": "python",
   "pygments_lexer": "ipython3",
   "version": "3.9.6"
  }
 },
 "nbformat": 4,
 "nbformat_minor": 2
}
