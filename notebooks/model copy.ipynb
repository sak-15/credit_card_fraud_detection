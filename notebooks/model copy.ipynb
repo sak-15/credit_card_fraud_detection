{
 "cells": [
  {
   "cell_type": "markdown",
   "metadata": {},
   "source": [
    "### Imports"
   ]
  },
  {
   "cell_type": "code",
   "execution_count": 1,
   "metadata": {},
   "outputs": [],
   "source": [
    "# Import necessary libraries\n",
    "import pandas as pd\n",
    "import numpy as np\n",
    "import matplotlib.pyplot as plt\n",
    "import seaborn as sns\n",
    "\n",
    "from sklearn.model_selection import train_test_split, GridSearchCV\n",
    "from sklearn.preprocessing import StandardScaler\n",
    "from sklearn.ensemble import RandomForestClassifier\n",
    "from sklearn.metrics import classification_report, precision_score, confusion_matrix, roc_auc_score\n",
    "from xgboost import XGBClassifier\n",
    "\n",
    "from imblearn.over_sampling import SMOTE\n",
    "from imblearn.under_sampling import RandomUnderSampler\n",
    "from imblearn.pipeline import Pipeline\n",
    "from imblearn.combine import SMOTEENN\n",
    "\n",
    "# Suppress warnings for cleaner output\n",
    "import warnings\n",
    "warnings.filterwarnings('ignore')   "
   ]
  },
  {
   "cell_type": "markdown",
   "metadata": {},
   "source": [
    "### Loading the Data"
   ]
  },
  {
   "cell_type": "code",
   "execution_count": 2,
   "metadata": {},
   "outputs": [],
   "source": [
    "# Load training data (transactions)\n",
    "train_data = pd.read_csv('/Users/sakshiii/Desktop/credit_card_fraud_detection/data/train.csv')       \n",
    "\n",
    "# Load customer data\n",
    "customer_data = pd.read_csv('/Users/sakshiii/Desktop/credit_card_fraud_detection/data/customer.csv') \n",
    "\n",
    "# Load terminal (merchant) data\n",
    "terminal_data = pd.read_csv('/Users/sakshiii/Desktop/credit_card_fraud_detection/data/terminal.csv') \n",
    "\n",
    "# Load test data\n",
    "test_data = pd.read_csv('/Users/sakshiii/Desktop/credit_card_fraud_detection/data/test.csv')\n"
   ]
  },
  {
   "cell_type": "markdown",
   "metadata": {},
   "source": [
    "###  Exploratory Data Analysis (EDA)"
   ]
  },
  {
   "cell_type": "code",
   "execution_count": 3,
   "metadata": {},
   "outputs": [
    {
     "data": {
      "image/png": "[encoded data removed]",
      "text/plain": [
       "<Figure size 600x400 with 1 Axes>"
      ]
     },
     "metadata": {},
     "output_type": "display_data"
    },
    {
     "name": "stdout",
     "output_type": "stream",
     "text": [
      "Percentage of fraudulent transactions: 2.2601%\n"
     ]
    }
   ],
   "source": [
    "# Check the distribution of the target variable\n",
    "plt.figure(figsize=(6,4))\n",
    "sns.countplot(x='TX_FRAUD', data=train_data)\n",
    "plt.title('Distribution of Fraudulent vs. Legitimate Transactions')\n",
    "plt.show()\n",
    "\n",
    "# Display the percentage of fraudulent transactions\n",
    "fraud_percentage = train_data['TX_FRAUD'].mean() * 100\n",
    "print(f\"Percentage of fraudulent transactions: {fraud_percentage:.4f}%\")\n"
   ]
  },
  {
   "cell_type": "markdown",
   "metadata": {},
   "source": [
    "### Data Processsing "
   ]
  },
  {
   "cell_type": "markdown",
   "metadata": {},
   "source": [
    "#### 1. Handling Missing Values"
   ]
  },
  {
   "cell_type": "code",
   "execution_count": 4,
   "metadata": {},
   "outputs": [
    {
     "name": "stdout",
     "output_type": "stream",
     "text": [
      "Missing values in Train Data:\n",
      "TRANSACTION_ID    0\n",
      "TX_DATETIME       0\n",
      "CUSTOMER_ID       0\n",
      "TERMINAL_ID       0\n",
      "TX_AMOUNT         0\n",
      "TX_FRAUD          0\n",
      "dtype: int64\n",
      "\n",
      "Missing values in Test Data:\n",
      "TRANSACTION_ID    0\n",
      "TX_DATETIME       0\n",
      "CUSTOMER_ID       0\n",
      "TERMINAL_ID       0\n",
      "TX_AMOUNT         0\n",
      "dtype: int64\n"
     ]
    }
   ],
   "source": [
    "# Check for missing values in train and test datasets\n",
    "print(\"Missing values in Train Data:\")\n",
    "print(train_data.isnull().sum())\n",
    "\n",
    "print(\"\\nMissing values in Test Data:\")\n",
    "print(test_data.isnull().sum())\n",
    "\n",
    "# Assuming no missing values for simplicity; otherwise, implement appropriate imputation\n"
   ]
  },
  {
   "cell_type": "markdown",
   "metadata": {},
   "source": [
    "#### 2. Feature Engineering"
   ]
  },
  {
   "cell_type": "code",
   "execution_count": 5,
   "metadata": {},
   "outputs": [
    {
     "name": "stdout",
     "output_type": "stream",
     "text": [
      "\n",
      "Preprocessed Training Data Head:\n",
      "   TX_AMOUNT  TX_FRAUD  x_customer_id  y_customer_id  mean_amount  std_amount  \\\n",
      "0       4.60         0      84.515409      38.276422     7.353061    3.676530   \n",
      "1       8.61         0      11.827443      63.992102    18.618562    9.309281   \n",
      "2      64.00         0      75.221083      94.991427    82.620413   41.310207   \n",
      "3      12.72         0      51.122179       8.329098     9.852171    4.926085   \n",
      "4      98.88         0      62.777887      31.405270    83.660035   41.830018   \n",
      "\n",
      "   mean_nb_tx_per_day  nb_terminals  x_terminal_id  y_terminal_id  hour  \\\n",
      "0            3.324124            19      80.316334      40.239252     0   \n",
      "1            3.778676            16      15.172487      63.912685     0   \n",
      "2            3.723765            13      74.196424      98.288079     0   \n",
      "3            3.862067            15      51.950635       6.563484     0   \n",
      "4            3.128315            20      62.417972      26.483666     0   \n",
      "\n",
      "   day_of_week  month  \n",
      "0            6      8  \n",
      "1            6      8  \n",
      "2            6      8  \n",
      "3            6      8  \n",
      "4            6      8  \n"
     ]
    }
   ],
   "source": [
    "import ast\n",
    "\n",
    "# Step 1: Parse the 'available_terminals' column from string to list format\n",
    "\n",
    "# Define a function to safely convert the string representation of lists to actual lists\n",
    "def convert_to_list(terminal_str):\n",
    "    try:\n",
    "        return ast.literal_eval(terminal_str)  # Safely evaluate string to list\n",
    "    except (ValueError, SyntaxError):\n",
    "        return []  # Return empty list if conversion fails\n",
    "    \n",
    "# Merge customer and terminal data\n",
    "train_data = train_data.merge(customer_data, on='CUSTOMER_ID', how='left')\n",
    "train_data = train_data.merge(terminal_data, on='TERMINAL_ID', how='left')\n",
    "\n",
    "test_data = test_data.merge(customer_data, on='CUSTOMER_ID', how='left')\n",
    "test_data = test_data.merge(terminal_data, on='TERMINAL_ID', how='left')\n",
    "\n",
    "# Apply the conversion function to the 'available_terminals' column\n",
    "train_data['available_terminals'] = train_data['available_terminals'].apply(convert_to_list)\n",
    "test_data['available_terminals'] = test_data['available_terminals'].apply(convert_to_list)\n",
    "\n",
    "# # Step 2: Feature: Count of available terminals for each customer\n",
    "# train_data['num_available_terminals'] = train_data['available_terminals'].apply(len)\n",
    "# test_data['num_available_terminals'] = test_data['available_terminals'].apply(len)\n",
    "\n",
    "# Step 3: Drop the 'available_terminals' column after extracting useful information\n",
    "train_data = train_data.drop('available_terminals', axis=1)\n",
    "test_data = test_data.drop('available_terminals', axis=1)\n",
    "\n",
    "# Step 4: Continue with other feature engineering steps\n",
    "# Convert TX_DATETIME to datetime format\n",
    "train_data['TX_DATETIME'] = pd.to_datetime(train_data['TX_DATETIME'])\n",
    "test_data['TX_DATETIME'] = pd.to_datetime(test_data['TX_DATETIME'])\n",
    "\n",
    "# Extract time-based features\n",
    "train_data['hour'] = train_data['TX_DATETIME'].dt.hour\n",
    "train_data['day_of_week'] = train_data['TX_DATETIME'].dt.dayofweek\n",
    "train_data['month'] = train_data['TX_DATETIME'].dt.month\n",
    "\n",
    "test_data['hour'] = test_data['TX_DATETIME'].dt.hour\n",
    "test_data['day_of_week'] = test_data['TX_DATETIME'].dt.dayofweek\n",
    "test_data['month'] = test_data['TX_DATETIME'].dt.month\n",
    "\n",
    "# Transaction Recency (Time since last transaction per customer)\n",
    "train_data['CUSTOMER_RECENCY'] = train_data.groupby('CUSTOMER_ID')['TX_DATETIME'].diff().dt.total_seconds()\n",
    "train_data['TERMINAL_RECENCY'] = train_data.groupby('TERMINAL_ID')['TX_DATETIME'].diff().dt.total_seconds()\n",
    "\n",
    "\n",
    "\n",
    "# # Feature: Distance between customer and terminal\n",
    "# train_data['distance'] = np.sqrt((train_data['x_customer_id'] - train_data['x_terminal_id'])**2 +\n",
    "#                                   (train_data['y_customer_id'] - train_data['y_terminal_id'])**2)\n",
    "\n",
    "# test_data['distance'] = np.sqrt((test_data['x_customer_id'] - test_data['x_terminal_id'])**2 +\n",
    "#                                  (test_data['y_customer_id'] - test_data['y_terminal_id'])**2)\n",
    "\n",
    "# Dropping unnecessary columns\n",
    "columns_to_drop = ['TRANSACTION_ID', 'CUSTOMER_ID', 'TERMINAL_ID', 'TX_DATETIME']\n",
    "train_data = train_data.drop(columns_to_drop, axis=1)\n",
    "test_data = test_data.drop(columns_to_drop, axis=1)\n",
    "\n",
    "# Display the updated train data after feature engineering\n",
    "print(\"\\nPreprocessed Training Data Head:\")\n",
    "print(train_data.head())\n"
   ]
  },
  {
   "cell_type": "markdown",
   "metadata": {},
   "source": [
    "### Handling Class Imbalance with Sampling"
   ]
  },
  {
   "cell_type": "code",
   "execution_count": 6,
   "metadata": {},
   "outputs": [
    {
     "name": "stdout",
     "output_type": "stream",
     "text": [
      "\n",
      "Validation Precision after Sampling: 0.0513\n",
      "\n",
      "Classification Report:\n",
      "              precision    recall  f1-score   support\n",
      "\n",
      "           0       1.00      0.61      0.76     56931\n",
      "           1       0.05      0.91      0.10      1316\n",
      "\n",
      "    accuracy                           0.62     58247\n",
      "   macro avg       0.52      0.76      0.43     58247\n",
      "weighted avg       0.98      0.62      0.74     58247\n",
      "\n"
     ]
    },
    {
     "data": {
      "image/png": "[encoded data removed]",
      "text/plain": [
       "<Figure size 600x400 with 2 Axes>"
      ]
     },
     "metadata": {},
     "output_type": "display_data"
    }
   ],
   "source": [
    "# Define features and target\n",
    "X = train_data.drop('TX_FRAUD', axis=1)\n",
    "y = train_data['TX_FRAUD']\n",
    "\n",
    "# Split the data into training and validation sets before applying sampling to prevent data leakage\n",
    "X_train, X_val, y_train, y_val = train_test_split(X, y, test_size=0.3, random_state=42, stratify=y)\n",
    "\n",
    "# Define the sampling strategy\n",
    "# Combining SMOTE and Random Under Sampling\n",
    "over = SMOTE(sampling_strategy=0.1, random_state=42)  # Oversample minority class to 10%\n",
    "under = RandomUnderSampler(sampling_strategy=0.5, random_state=42)  # Undersample majority class to have 0.5 ratio\n",
    "\n",
    "# Create a pipeline\n",
    "steps = [('over', over), ('under', under), ('scaler', StandardScaler()), ('model', XGBClassifier(scale_pos_weight=10, use_label_encoder=False, eval_metric='logloss'))]\n",
    "pipeline = Pipeline(steps=steps)\n",
    "\n",
    "# Fit the pipeline on the training data\n",
    "pipeline.fit(X_train, y_train)\n",
    "\n",
    "# Predict on the validation set\n",
    "y_pred = pipeline.predict(X_val)\n",
    "\n",
    "# Evaluate the model\n",
    "precision = precision_score(y_val, y_pred)\n",
    "print(f'\\nValidation Precision after Sampling: {precision:.4f}')\n",
    "\n",
    "print(\"\\nClassification Report:\")\n",
    "print(classification_report(y_val, y_pred))\n",
    "\n",
    "# Display confusion matrix\n",
    "plt.figure(figsize=(6,4))\n",
    "sns.heatmap(confusion_matrix(y_val, y_pred), annot=True, fmt='d', cmap='Blues')\n",
    "plt.title('Confusion Matrix')\n",
    "plt.xlabel('Predicted')\n",
    "plt.ylabel('Actual')\n",
    "plt.show()\n"
   ]
  },
  {
   "cell_type": "markdown",
   "metadata": {},
   "source": [
    "### Adjusting Decision Threshold for Improved Precision"
   ]
  },
  {
   "cell_type": "code",
   "execution_count": 7,
   "metadata": {},
   "outputs": [
    {
     "name": "stdout",
     "output_type": "stream",
     "text": [
      "Precision with custom threshold 0.6: 0.0610\n",
      "\n",
      "Classification Report with Custom Threshold:\n",
      "              precision    recall  f1-score   support\n",
      "\n",
      "           0       1.00      0.69      0.81     56931\n",
      "           1       0.06      0.87      0.11      1316\n",
      "\n",
      "    accuracy                           0.69     58247\n",
      "   macro avg       0.53      0.78      0.46     58247\n",
      "weighted avg       0.97      0.69      0.80     58247\n",
      "\n"
     ]
    },
    {
     "data": {
      "image/png": "[encoded data removed]",
      "text/plain": [
       "<Figure size 600x400 with 2 Axes>"
      ]
     },
     "metadata": {},
     "output_type": "display_data"
    }
   ],
   "source": [
    "# Predict probabilities instead of labels\n",
    "y_prob = pipeline.predict_proba(X_val)[:, 1]\n",
    "\n",
    "# Set a custom threshold for fraud detection (e.g., 0.6)\n",
    "custom_threshold = 0.6\n",
    "y_pred_custom = (y_prob >= custom_threshold).astype(int)\n",
    "\n",
    "# Recalculate precision with the new threshold\n",
    "precision_custom = precision_score(y_val, y_pred_custom)\n",
    "print(f'Precision with custom threshold {custom_threshold}: {precision_custom:.4f}')\n",
    "\n",
    "# Display classification report and confusion matrix with custom threshold\n",
    "print(\"\\nClassification Report with Custom Threshold:\")\n",
    "print(classification_report(y_val, y_pred_custom))\n",
    "\n",
    "# Confusion matrix with custom threshold\n",
    "plt.figure(figsize=(6, 4))\n",
    "sns.heatmap(confusion_matrix(y_val, y_pred_custom), annot=True, fmt='d', cmap='Reds')\n",
    "plt.title(f'Confusion Matrix - Custom Threshold {custom_threshold}')\n",
    "plt.xlabel('Predicted')\n",
    "plt.ylabel('Actual')\n",
    "plt.show()"
   ]
  },
  {
   "cell_type": "markdown",
   "metadata": {},
   "source": [
    "### Hyperparameter Tuning"
   ]
  },
  {
   "cell_type": "code",
   "execution_count": 8,
   "metadata": {},
   "outputs": [
    {
     "name": "stdout",
     "output_type": "stream",
     "text": [
      "Fitting 3 folds for each of 24 candidates, totalling 72 fits\n"
     ]
    },
    {
     "name": "stderr",
     "output_type": "stream",
     "text": [
      "/Users/sakshiii/Library/Python/3.9/lib/python/site-packages/xgboost/core.py:158: UserWarning: [00:21:24] WARNING: /Users/runner/work/xgboost/xgboost/src/learner.cc:740: \n",
      "Parameters: { \"min_samples_leaf\", \"min_samples_split\", \"use_label_encoder\" } are not used.\n",
      "\n",
      "  warnings.warn(smsg, UserWarning)\n",
      "/Users/sakshiii/Library/Python/3.9/lib/python/site-packages/xgboost/core.py:158: UserWarning: [00:21:24] WARNING: /Users/runner/work/xgboost/xgboost/src/learner.cc:740: \n",
      "Parameters: { \"min_samples_leaf\", \"min_samples_split\", \"use_label_encoder\" } are not used.\n",
      "\n",
      "  warnings.warn(smsg, UserWarning)\n",
      "/Users/sakshiii/Library/Python/3.9/lib/python/site-packages/xgboost/core.py:158: UserWarning: [00:21:24] WARNING: /Users/runner/work/xgboost/xgboost/src/learner.cc:740: \n",
      "Parameters: { \"min_samples_leaf\", \"min_samples_split\", \"use_label_encoder\" } are not used.\n",
      "\n",
      "  warnings.warn(smsg, UserWarning)\n",
      "/Users/sakshiii/Library/Python/3.9/lib/python/site-packages/xgboost/core.py:158: UserWarning: [00:21:24] WARNING: /Users/runner/work/xgboost/xgboost/src/learner.cc:740: \n",
      "Parameters: { \"min_samples_leaf\", \"min_samples_split\", \"use_label_encoder\" } are not used.\n",
      "\n",
      "  warnings.warn(smsg, UserWarning)\n",
      "/Users/sakshiii/Library/Python/3.9/lib/python/site-packages/xgboost/core.py:158: UserWarning: [00:21:24] WARNING: /Users/runner/work/xgboost/xgboost/src/learner.cc:740: \n",
      "Parameters: { \"min_samples_leaf\", \"min_samples_split\", \"use_label_encoder\" } are not used.\n",
      "\n",
      "  warnings.warn(smsg, UserWarning)\n",
      "/Users/sakshiii/Library/Python/3.9/lib/python/site-packages/xgboost/core.py:158: UserWarning: [00:21:24] WARNING: /Users/runner/work/xgboost/xgboost/src/learner.cc:740: \n",
      "Parameters: { \"min_samples_leaf\", \"min_samples_split\", \"use_label_encoder\" } are not used.\n",
      "\n",
      "  warnings.warn(smsg, UserWarning)\n",
      "/Users/sakshiii/Library/Python/3.9/lib/python/site-packages/xgboost/core.py:158: UserWarning: [00:21:24] WARNING: /Users/runner/work/xgboost/xgboost/src/learner.cc:740: \n",
      "Parameters: { \"min_samples_leaf\", \"min_samples_split\", \"use_label_encoder\" } are not used.\n",
      "\n",
      "  warnings.warn(smsg, UserWarning)\n",
      "/Users/sakshiii/Library/Python/3.9/lib/python/site-packages/xgboost/core.py:158: UserWarning: [00:21:24] WARNING: /Users/runner/work/xgboost/xgboost/src/learner.cc:740: \n",
      "Parameters: { \"min_samples_leaf\", \"min_samples_split\", \"use_label_encoder\" } are not used.\n",
      "\n",
      "  warnings.warn(smsg, UserWarning)\n"
     ]
    },
    {
     "name": "stdout",
     "output_type": "stream",
     "text": [
      "[CV] END model__max_depth=10, model__min_samples_leaf=1, model__min_samples_split=2, model__n_estimators=100; total time=   1.7s\n",
      "[CV] END model__max_depth=10, model__min_samples_leaf=1, model__min_samples_split=2, model__n_estimators=100; total time=   1.7s\n",
      "[CV] END model__max_depth=10, model__min_samples_leaf=1, model__min_samples_split=5, model__n_estimators=100; total time=   1.7s\n",
      "[CV] END model__max_depth=10, model__min_samples_leaf=1, model__min_samples_split=2, model__n_estimators=100; total time=   1.7s\n",
      "[CV] END model__max_depth=10, model__min_samples_leaf=1, model__min_samples_split=5, model__n_estimators=100; total time=   1.6s\n"
     ]
    },
    {
     "name": "stderr",
     "output_type": "stream",
     "text": [
      "/Users/sakshiii/Library/Python/3.9/lib/python/site-packages/xgboost/core.py:158: UserWarning: [00:21:26] WARNING: /Users/runner/work/xgboost/xgboost/src/learner.cc:740: \n",
      "Parameters: { \"min_samples_leaf\", \"min_samples_split\", \"use_label_encoder\" } are not used.\n",
      "\n",
      "  warnings.warn(smsg, UserWarning)\n",
      "/Users/sakshiii/Library/Python/3.9/lib/python/site-packages/xgboost/core.py:158: UserWarning: [00:21:26] WARNING: /Users/runner/work/xgboost/xgboost/src/learner.cc:740: \n",
      "Parameters: { \"min_samples_leaf\", \"min_samples_split\", \"use_label_encoder\" } are not used.\n",
      "\n",
      "  warnings.warn(smsg, UserWarning)\n",
      "/Users/sakshiii/Library/Python/3.9/lib/python/site-packages/xgboost/core.py:158: UserWarning: [00:21:26] WARNING: /Users/runner/work/xgboost/xgboost/src/learner.cc:740: \n",
      "Parameters: { \"min_samples_leaf\", \"min_samples_split\", \"use_label_encoder\" } are not used.\n",
      "\n",
      "  warnings.warn(smsg, UserWarning)\n",
      "/Users/sakshiii/Library/Python/3.9/lib/python/site-packages/xgboost/core.py:158: UserWarning: [00:21:26] WARNING: /Users/runner/work/xgboost/xgboost/src/learner.cc:740: \n",
      "Parameters: { \"min_samples_leaf\", \"min_samples_split\", \"use_label_encoder\" } are not used.\n",
      "\n",
      "  warnings.warn(smsg, UserWarning)\n",
      "/Users/sakshiii/Library/Python/3.9/lib/python/site-packages/xgboost/core.py:158: UserWarning: [00:21:26] WARNING: /Users/runner/work/xgboost/xgboost/src/learner.cc:740: \n",
      "Parameters: { \"min_samples_leaf\", \"min_samples_split\", \"use_label_encoder\" } are not used.\n",
      "\n",
      "  warnings.warn(smsg, UserWarning)\n"
     ]
    },
    {
     "name": "stdout",
     "output_type": "stream",
     "text": [
      "[CV] END model__max_depth=10, model__min_samples_leaf=1, model__min_samples_split=2, model__n_estimators=200; total time=   3.0s\n",
      "[CV] END model__max_depth=10, model__min_samples_leaf=1, model__min_samples_split=2, model__n_estimators=200; total time=   3.0s\n",
      "[CV] END model__max_depth=10, model__min_samples_leaf=1, model__min_samples_split=2, model__n_estimators=200; total time=   3.1s\n"
     ]
    },
    {
     "name": "stderr",
     "output_type": "stream",
     "text": [
      "/Users/sakshiii/Library/Python/3.9/lib/python/site-packages/xgboost/core.py:158: UserWarning: [00:21:27] WARNING: /Users/runner/work/xgboost/xgboost/src/learner.cc:740: \n",
      "Parameters: { \"min_samples_leaf\", \"min_samples_split\", \"use_label_encoder\" } are not used.\n",
      "\n",
      "  warnings.warn(smsg, UserWarning)\n",
      "/Users/sakshiii/Library/Python/3.9/lib/python/site-packages/xgboost/core.py:158: UserWarning: [00:21:27] WARNING: /Users/runner/work/xgboost/xgboost/src/learner.cc:740: \n",
      "Parameters: { \"min_samples_leaf\", \"min_samples_split\", \"use_label_encoder\" } are not used.\n",
      "\n",
      "  warnings.warn(smsg, UserWarning)\n",
      "/Users/sakshiii/Library/Python/3.9/lib/python/site-packages/xgboost/core.py:158: UserWarning: [00:21:27] WARNING: /Users/runner/work/xgboost/xgboost/src/learner.cc:740: \n",
      "Parameters: { \"min_samples_leaf\", \"min_samples_split\", \"use_label_encoder\" } are not used.\n",
      "\n",
      "  warnings.warn(smsg, UserWarning)\n"
     ]
    },
    {
     "name": "stdout",
     "output_type": "stream",
     "text": [
      "[CV] END model__max_depth=10, model__min_samples_leaf=1, model__min_samples_split=5, model__n_estimators=100; total time=   1.8s\n",
      "[CV] END model__max_depth=10, model__min_samples_leaf=2, model__min_samples_split=2, model__n_estimators=100; total time=   1.8s\n"
     ]
    },
    {
     "name": "stderr",
     "output_type": "stream",
     "text": [
      "/Users/sakshiii/Library/Python/3.9/lib/python/site-packages/xgboost/core.py:158: UserWarning: [00:21:27] WARNING: /Users/runner/work/xgboost/xgboost/src/learner.cc:740: \n",
      "Parameters: { \"min_samples_leaf\", \"min_samples_split\", \"use_label_encoder\" } are not used.\n",
      "\n",
      "  warnings.warn(smsg, UserWarning)\n",
      "/Users/sakshiii/Library/Python/3.9/lib/python/site-packages/xgboost/core.py:158: UserWarning: [00:21:28] WARNING: /Users/runner/work/xgboost/xgboost/src/learner.cc:740: \n",
      "Parameters: { \"min_samples_leaf\", \"min_samples_split\", \"use_label_encoder\" } are not used.\n",
      "\n",
      "  warnings.warn(smsg, UserWarning)\n"
     ]
    },
    {
     "name": "stdout",
     "output_type": "stream",
     "text": [
      "[CV] END model__max_depth=10, model__min_samples_leaf=2, model__min_samples_split=2, model__n_estimators=100; total time=   1.7s\n",
      "[CV] END model__max_depth=10, model__min_samples_leaf=2, model__min_samples_split=2, model__n_estimators=100; total time=   1.8s\n",
      "[CV] END model__max_depth=10, model__min_samples_leaf=1, model__min_samples_split=5, model__n_estimators=200; total time=   3.1s\n",
      "[CV] END model__max_depth=10, model__min_samples_leaf=1, model__min_samples_split=5, model__n_estimators=200; total time=   3.1s\n",
      "[CV] END model__max_depth=10, model__min_samples_leaf=1, model__min_samples_split=5, model__n_estimators=200; total time=   3.3s\n"
     ]
    },
    {
     "name": "stderr",
     "output_type": "stream",
     "text": [
      "/Users/sakshiii/Library/Python/3.9/lib/python/site-packages/xgboost/core.py:158: UserWarning: [00:21:29] WARNING: /Users/runner/work/xgboost/xgboost/src/learner.cc:740: \n",
      "Parameters: { \"min_samples_leaf\", \"min_samples_split\", \"use_label_encoder\" } are not used.\n",
      "\n",
      "  warnings.warn(smsg, UserWarning)\n",
      "/Users/sakshiii/Library/Python/3.9/lib/python/site-packages/xgboost/core.py:158: UserWarning: [00:21:29] WARNING: /Users/runner/work/xgboost/xgboost/src/learner.cc:740: \n",
      "Parameters: { \"min_samples_leaf\", \"min_samples_split\", \"use_label_encoder\" } are not used.\n",
      "\n",
      "  warnings.warn(smsg, UserWarning)\n",
      "/Users/sakshiii/Library/Python/3.9/lib/python/site-packages/xgboost/core.py:158: UserWarning: [00:21:29] WARNING: /Users/runner/work/xgboost/xgboost/src/learner.cc:740: \n",
      "Parameters: { \"min_samples_leaf\", \"min_samples_split\", \"use_label_encoder\" } are not used.\n",
      "\n",
      "  warnings.warn(smsg, UserWarning)\n",
      "/Users/sakshiii/Library/Python/3.9/lib/python/site-packages/xgboost/core.py:158: UserWarning: [00:21:29] WARNING: /Users/runner/work/xgboost/xgboost/src/learner.cc:740: \n",
      "Parameters: { \"min_samples_leaf\", \"min_samples_split\", \"use_label_encoder\" } are not used.\n",
      "\n",
      "  warnings.warn(smsg, UserWarning)\n",
      "/Users/sakshiii/Library/Python/3.9/lib/python/site-packages/xgboost/core.py:158: UserWarning: [00:21:29] WARNING: /Users/runner/work/xgboost/xgboost/src/learner.cc:740: \n",
      "Parameters: { \"min_samples_leaf\", \"min_samples_split\", \"use_label_encoder\" } are not used.\n",
      "\n",
      "  warnings.warn(smsg, UserWarning)\n"
     ]
    },
    {
     "name": "stdout",
     "output_type": "stream",
     "text": [
      "[CV] END model__max_depth=10, model__min_samples_leaf=2, model__min_samples_split=2, model__n_estimators=200; total time=   3.0s\n",
      "[CV] END model__max_depth=10, model__min_samples_leaf=2, model__min_samples_split=5, model__n_estimators=100; total time=   1.6s\n",
      "[CV] END model__max_depth=10, model__min_samples_leaf=2, model__min_samples_split=5, model__n_estimators=100; total time=   1.6s\n",
      "[CV] END model__max_depth=10, model__min_samples_leaf=2, model__min_samples_split=2, model__n_estimators=200; total time=   2.9s\n",
      "[CV] END model__max_depth=10, model__min_samples_leaf=2, model__min_samples_split=5, model__n_estimators=100; total time=   1.6s\n"
     ]
    },
    {
     "name": "stderr",
     "output_type": "stream",
     "text": [
      "/Users/sakshiii/Library/Python/3.9/lib/python/site-packages/xgboost/core.py:158: UserWarning: [00:21:30] WARNING: /Users/runner/work/xgboost/xgboost/src/learner.cc:740: \n",
      "Parameters: { \"min_samples_leaf\", \"min_samples_split\", \"use_label_encoder\" } are not used.\n",
      "\n",
      "  warnings.warn(smsg, UserWarning)\n",
      "/Users/sakshiii/Library/Python/3.9/lib/python/site-packages/xgboost/core.py:158: UserWarning: [00:21:30] WARNING: /Users/runner/work/xgboost/xgboost/src/learner.cc:740: \n",
      "Parameters: { \"min_samples_leaf\", \"min_samples_split\", \"use_label_encoder\" } are not used.\n",
      "\n",
      "  warnings.warn(smsg, UserWarning)\n",
      "/Users/sakshiii/Library/Python/3.9/lib/python/site-packages/xgboost/core.py:158: UserWarning: [00:21:30] WARNING: /Users/runner/work/xgboost/xgboost/src/learner.cc:740: \n",
      "Parameters: { \"min_samples_leaf\", \"min_samples_split\", \"use_label_encoder\" } are not used.\n",
      "\n",
      "  warnings.warn(smsg, UserWarning)\n",
      "/Users/sakshiii/Library/Python/3.9/lib/python/site-packages/xgboost/core.py:158: UserWarning: [00:21:31] WARNING: /Users/runner/work/xgboost/xgboost/src/learner.cc:740: \n",
      "Parameters: { \"min_samples_leaf\", \"min_samples_split\", \"use_label_encoder\" } are not used.\n",
      "\n",
      "  warnings.warn(smsg, UserWarning)\n",
      "/Users/sakshiii/Library/Python/3.9/lib/python/site-packages/xgboost/core.py:158: UserWarning: [00:21:31] WARNING: /Users/runner/work/xgboost/xgboost/src/learner.cc:740: \n",
      "Parameters: { \"min_samples_leaf\", \"min_samples_split\", \"use_label_encoder\" } are not used.\n",
      "\n",
      "  warnings.warn(smsg, UserWarning)\n"
     ]
    },
    {
     "name": "stdout",
     "output_type": "stream",
     "text": [
      "[CV] END model__max_depth=10, model__min_samples_leaf=2, model__min_samples_split=2, model__n_estimators=200; total time=   3.1s\n"
     ]
    },
    {
     "name": "stderr",
     "output_type": "stream",
     "text": [
      "/Users/sakshiii/Library/Python/3.9/lib/python/site-packages/xgboost/core.py:158: UserWarning: [00:21:31] WARNING: /Users/runner/work/xgboost/xgboost/src/learner.cc:740: \n",
      "Parameters: { \"min_samples_leaf\", \"min_samples_split\", \"use_label_encoder\" } are not used.\n",
      "\n",
      "  warnings.warn(smsg, UserWarning)\n"
     ]
    },
    {
     "name": "stdout",
     "output_type": "stream",
     "text": [
      "[CV] END model__max_depth=10, model__min_samples_leaf=2, model__min_samples_split=5, model__n_estimators=200; total time=   3.2s\n",
      "[CV] END model__max_depth=10, model__min_samples_leaf=2, model__min_samples_split=5, model__n_estimators=200; total time=   3.2s\n"
     ]
    },
    {
     "name": "stderr",
     "output_type": "stream",
     "text": [
      "/Users/sakshiii/Library/Python/3.9/lib/python/site-packages/xgboost/core.py:158: UserWarning: [00:21:32] WARNING: /Users/runner/work/xgboost/xgboost/src/learner.cc:740: \n",
      "Parameters: { \"min_samples_leaf\", \"min_samples_split\", \"use_label_encoder\" } are not used.\n",
      "\n",
      "  warnings.warn(smsg, UserWarning)\n",
      "/Users/sakshiii/Library/Python/3.9/lib/python/site-packages/xgboost/core.py:158: UserWarning: [00:21:32] WARNING: /Users/runner/work/xgboost/xgboost/src/learner.cc:740: \n",
      "Parameters: { \"min_samples_leaf\", \"min_samples_split\", \"use_label_encoder\" } are not used.\n",
      "\n",
      "  warnings.warn(smsg, UserWarning)\n"
     ]
    },
    {
     "name": "stdout",
     "output_type": "stream",
     "text": [
      "[CV] END model__max_depth=10, model__min_samples_leaf=2, model__min_samples_split=5, model__n_estimators=200; total time=   3.2s\n"
     ]
    },
    {
     "name": "stderr",
     "output_type": "stream",
     "text": [
      "/Users/sakshiii/Library/Python/3.9/lib/python/site-packages/xgboost/core.py:158: UserWarning: [00:21:34] WARNING: /Users/runner/work/xgboost/xgboost/src/learner.cc:740: \n",
      "Parameters: { \"min_samples_leaf\", \"min_samples_split\", \"use_label_encoder\" } are not used.\n",
      "\n",
      "  warnings.warn(smsg, UserWarning)\n"
     ]
    },
    {
     "name": "stdout",
     "output_type": "stream",
     "text": [
      "[CV] END model__max_depth=20, model__min_samples_leaf=1, model__min_samples_split=2, model__n_estimators=100; total time=   4.5s\n"
     ]
    },
    {
     "name": "stderr",
     "output_type": "stream",
     "text": [
      "/Users/sakshiii/Library/Python/3.9/lib/python/site-packages/xgboost/core.py:158: UserWarning: [00:21:35] WARNING: /Users/runner/work/xgboost/xgboost/src/learner.cc:740: \n",
      "Parameters: { \"min_samples_leaf\", \"min_samples_split\", \"use_label_encoder\" } are not used.\n",
      "\n",
      "  warnings.warn(smsg, UserWarning)\n"
     ]
    },
    {
     "name": "stdout",
     "output_type": "stream",
     "text": [
      "[CV] END model__max_depth=20, model__min_samples_leaf=1, model__min_samples_split=2, model__n_estimators=100; total time=   4.7s\n",
      "[CV] END model__max_depth=20, model__min_samples_leaf=1, model__min_samples_split=2, model__n_estimators=100; total time=   4.9s\n"
     ]
    },
    {
     "name": "stderr",
     "output_type": "stream",
     "text": [
      "/Users/sakshiii/Library/Python/3.9/lib/python/site-packages/xgboost/core.py:158: UserWarning: [00:21:35] WARNING: /Users/runner/work/xgboost/xgboost/src/learner.cc:740: \n",
      "Parameters: { \"min_samples_leaf\", \"min_samples_split\", \"use_label_encoder\" } are not used.\n",
      "\n",
      "  warnings.warn(smsg, UserWarning)\n",
      "/Users/sakshiii/Library/Python/3.9/lib/python/site-packages/xgboost/core.py:158: UserWarning: [00:21:35] WARNING: /Users/runner/work/xgboost/xgboost/src/learner.cc:740: \n",
      "Parameters: { \"min_samples_leaf\", \"min_samples_split\", \"use_label_encoder\" } are not used.\n",
      "\n",
      "  warnings.warn(smsg, UserWarning)\n"
     ]
    },
    {
     "name": "stdout",
     "output_type": "stream",
     "text": [
      "[CV] END model__max_depth=20, model__min_samples_leaf=1, model__min_samples_split=5, model__n_estimators=100; total time=   4.3s\n"
     ]
    },
    {
     "name": "stderr",
     "output_type": "stream",
     "text": [
      "/Users/sakshiii/Library/Python/3.9/lib/python/site-packages/xgboost/core.py:158: UserWarning: [00:21:37] WARNING: /Users/runner/work/xgboost/xgboost/src/learner.cc:740: \n",
      "Parameters: { \"min_samples_leaf\", \"min_samples_split\", \"use_label_encoder\" } are not used.\n",
      "\n",
      "  warnings.warn(smsg, UserWarning)\n"
     ]
    },
    {
     "name": "stdout",
     "output_type": "stream",
     "text": [
      "[CV] END model__max_depth=20, model__min_samples_leaf=1, model__min_samples_split=2, model__n_estimators=200; total time=   6.9s\n",
      "[CV] END model__max_depth=20, model__min_samples_leaf=1, model__min_samples_split=2, model__n_estimators=200; total time=   6.8s\n",
      "[CV] END model__max_depth=20, model__min_samples_leaf=1, model__min_samples_split=5, model__n_estimators=100; total time=   4.2s\n"
     ]
    },
    {
     "name": "stderr",
     "output_type": "stream",
     "text": [
      "/Users/sakshiii/Library/Python/3.9/lib/python/site-packages/xgboost/core.py:158: UserWarning: [00:21:37] WARNING: /Users/runner/work/xgboost/xgboost/src/learner.cc:740: \n",
      "Parameters: { \"min_samples_leaf\", \"min_samples_split\", \"use_label_encoder\" } are not used.\n",
      "\n",
      "  warnings.warn(smsg, UserWarning)\n",
      "/Users/sakshiii/Library/Python/3.9/lib/python/site-packages/xgboost/core.py:158: UserWarning: [00:21:38] WARNING: /Users/runner/work/xgboost/xgboost/src/learner.cc:740: \n",
      "Parameters: { \"min_samples_leaf\", \"min_samples_split\", \"use_label_encoder\" } are not used.\n",
      "\n",
      "  warnings.warn(smsg, UserWarning)\n",
      "/Users/sakshiii/Library/Python/3.9/lib/python/site-packages/xgboost/core.py:158: UserWarning: [00:21:38] WARNING: /Users/runner/work/xgboost/xgboost/src/learner.cc:740: \n",
      "Parameters: { \"min_samples_leaf\", \"min_samples_split\", \"use_label_encoder\" } are not used.\n",
      "\n",
      "  warnings.warn(smsg, UserWarning)\n"
     ]
    },
    {
     "name": "stdout",
     "output_type": "stream",
     "text": [
      "[CV] END model__max_depth=20, model__min_samples_leaf=1, model__min_samples_split=2, model__n_estimators=200; total time=   6.8s\n"
     ]
    },
    {
     "name": "stderr",
     "output_type": "stream",
     "text": [
      "/Users/sakshiii/Library/Python/3.9/lib/python/site-packages/xgboost/core.py:158: UserWarning: [00:21:39] WARNING: /Users/runner/work/xgboost/xgboost/src/learner.cc:740: \n",
      "Parameters: { \"min_samples_leaf\", \"min_samples_split\", \"use_label_encoder\" } are not used.\n",
      "\n",
      "  warnings.warn(smsg, UserWarning)\n"
     ]
    },
    {
     "name": "stdout",
     "output_type": "stream",
     "text": [
      "[CV] END model__max_depth=20, model__min_samples_leaf=1, model__min_samples_split=5, model__n_estimators=100; total time=   4.4s\n"
     ]
    },
    {
     "name": "stderr",
     "output_type": "stream",
     "text": [
      "/Users/sakshiii/Library/Python/3.9/lib/python/site-packages/xgboost/core.py:158: UserWarning: [00:21:39] WARNING: /Users/runner/work/xgboost/xgboost/src/learner.cc:740: \n",
      "Parameters: { \"min_samples_leaf\", \"min_samples_split\", \"use_label_encoder\" } are not used.\n",
      "\n",
      "  warnings.warn(smsg, UserWarning)\n"
     ]
    },
    {
     "name": "stdout",
     "output_type": "stream",
     "text": [
      "[CV] END model__max_depth=20, model__min_samples_leaf=2, model__min_samples_split=2, model__n_estimators=100; total time=   4.1s\n",
      "[CV] END model__max_depth=20, model__min_samples_leaf=1, model__min_samples_split=5, model__n_estimators=200; total time=   6.5s\n"
     ]
    },
    {
     "name": "stderr",
     "output_type": "stream",
     "text": [
      "/Users/sakshiii/Library/Python/3.9/lib/python/site-packages/xgboost/core.py:158: UserWarning: [00:21:42] WARNING: /Users/runner/work/xgboost/xgboost/src/learner.cc:740: \n",
      "Parameters: { \"min_samples_leaf\", \"min_samples_split\", \"use_label_encoder\" } are not used.\n",
      "\n",
      "  warnings.warn(smsg, UserWarning)\n",
      "/Users/sakshiii/Library/Python/3.9/lib/python/site-packages/xgboost/core.py:158: UserWarning: [00:21:42] WARNING: /Users/runner/work/xgboost/xgboost/src/learner.cc:740: \n",
      "Parameters: { \"min_samples_leaf\", \"min_samples_split\", \"use_label_encoder\" } are not used.\n",
      "\n",
      "  warnings.warn(smsg, UserWarning)\n"
     ]
    },
    {
     "name": "stdout",
     "output_type": "stream",
     "text": [
      "[CV] END model__max_depth=20, model__min_samples_leaf=2, model__min_samples_split=2, model__n_estimators=100; total time=   4.4s\n",
      "[CV] END model__max_depth=20, model__min_samples_leaf=2, model__min_samples_split=2, model__n_estimators=100; total time=   4.3s\n",
      "[CV] END model__max_depth=20, model__min_samples_leaf=1, model__min_samples_split=5, model__n_estimators=200; total time=   6.7s\n"
     ]
    },
    {
     "name": "stderr",
     "output_type": "stream",
     "text": [
      "/Users/sakshiii/Library/Python/3.9/lib/python/site-packages/xgboost/core.py:158: UserWarning: [00:21:42] WARNING: /Users/runner/work/xgboost/xgboost/src/learner.cc:740: \n",
      "Parameters: { \"min_samples_leaf\", \"min_samples_split\", \"use_label_encoder\" } are not used.\n",
      "\n",
      "  warnings.warn(smsg, UserWarning)\n",
      "/Users/sakshiii/Library/Python/3.9/lib/python/site-packages/xgboost/core.py:158: UserWarning: [00:21:42] WARNING: /Users/runner/work/xgboost/xgboost/src/learner.cc:740: \n",
      "Parameters: { \"min_samples_leaf\", \"min_samples_split\", \"use_label_encoder\" } are not used.\n",
      "\n",
      "  warnings.warn(smsg, UserWarning)\n",
      "/Users/sakshiii/Library/Python/3.9/lib/python/site-packages/xgboost/core.py:158: UserWarning: [00:21:42] WARNING: /Users/runner/work/xgboost/xgboost/src/learner.cc:740: \n",
      "Parameters: { \"min_samples_leaf\", \"min_samples_split\", \"use_label_encoder\" } are not used.\n",
      "\n",
      "  warnings.warn(smsg, UserWarning)\n"
     ]
    },
    {
     "name": "stdout",
     "output_type": "stream",
     "text": [
      "[CV] END model__max_depth=20, model__min_samples_leaf=1, model__min_samples_split=5, model__n_estimators=200; total time=   6.7s\n"
     ]
    },
    {
     "name": "stderr",
     "output_type": "stream",
     "text": [
      "/Users/sakshiii/Library/Python/3.9/lib/python/site-packages/xgboost/core.py:158: UserWarning: [00:21:43] WARNING: /Users/runner/work/xgboost/xgboost/src/learner.cc:740: \n",
      "Parameters: { \"min_samples_leaf\", \"min_samples_split\", \"use_label_encoder\" } are not used.\n",
      "\n",
      "  warnings.warn(smsg, UserWarning)\n"
     ]
    },
    {
     "name": "stdout",
     "output_type": "stream",
     "text": [
      "[CV] END model__max_depth=20, model__min_samples_leaf=2, model__min_samples_split=2, model__n_estimators=200; total time=   6.4s\n",
      "[CV] END model__max_depth=20, model__min_samples_leaf=2, model__min_samples_split=2, model__n_estimators=200; total time=   6.7s\n"
     ]
    },
    {
     "name": "stderr",
     "output_type": "stream",
     "text": [
      "/Users/sakshiii/Library/Python/3.9/lib/python/site-packages/xgboost/core.py:158: UserWarning: [00:21:46] WARNING: /Users/runner/work/xgboost/xgboost/src/learner.cc:740: \n",
      "Parameters: { \"min_samples_leaf\", \"min_samples_split\", \"use_label_encoder\" } are not used.\n",
      "\n",
      "  warnings.warn(smsg, UserWarning)\n",
      "/Users/sakshiii/Library/Python/3.9/lib/python/site-packages/xgboost/core.py:158: UserWarning: [00:21:46] WARNING: /Users/runner/work/xgboost/xgboost/src/learner.cc:740: \n",
      "Parameters: { \"min_samples_leaf\", \"min_samples_split\", \"use_label_encoder\" } are not used.\n",
      "\n",
      "  warnings.warn(smsg, UserWarning)\n"
     ]
    },
    {
     "name": "stdout",
     "output_type": "stream",
     "text": [
      "[CV] END model__max_depth=20, model__min_samples_leaf=2, model__min_samples_split=5, model__n_estimators=100; total time=   4.2s\n"
     ]
    },
    {
     "name": "stderr",
     "output_type": "stream",
     "text": [
      "/Users/sakshiii/Library/Python/3.9/lib/python/site-packages/xgboost/core.py:158: UserWarning: [00:21:46] WARNING: /Users/runner/work/xgboost/xgboost/src/learner.cc:740: \n",
      "Parameters: { \"min_samples_leaf\", \"min_samples_split\", \"use_label_encoder\" } are not used.\n",
      "\n",
      "  warnings.warn(smsg, UserWarning)\n"
     ]
    },
    {
     "name": "stdout",
     "output_type": "stream",
     "text": [
      "[CV] END model__max_depth=20, model__min_samples_leaf=2, model__min_samples_split=5, model__n_estimators=100; total time=   4.2s\n",
      "[CV] END model__max_depth=20, model__min_samples_leaf=2, model__min_samples_split=5, model__n_estimators=100; total time=   4.2s\n",
      "[CV] END model__max_depth=None, model__min_samples_leaf=1, model__min_samples_split=2, model__n_estimators=100; total time=   0.7s\n"
     ]
    },
    {
     "name": "stderr",
     "output_type": "stream",
     "text": [
      "/Users/sakshiii/Library/Python/3.9/lib/python/site-packages/xgboost/core.py:158: UserWarning: [00:21:46] WARNING: /Users/runner/work/xgboost/xgboost/src/learner.cc:740: \n",
      "Parameters: { \"min_samples_leaf\", \"min_samples_split\", \"use_label_encoder\" } are not used.\n",
      "\n",
      "  warnings.warn(smsg, UserWarning)\n",
      "/Users/sakshiii/Library/Python/3.9/lib/python/site-packages/xgboost/core.py:158: UserWarning: [00:21:46] WARNING: /Users/runner/work/xgboost/xgboost/src/learner.cc:740: \n",
      "Parameters: { \"min_samples_leaf\", \"min_samples_split\", \"use_label_encoder\" } are not used.\n",
      "\n",
      "  warnings.warn(smsg, UserWarning)\n",
      "/Users/sakshiii/Library/Python/3.9/lib/python/site-packages/xgboost/core.py:158: UserWarning: [00:21:46] WARNING: /Users/runner/work/xgboost/xgboost/src/learner.cc:740: \n",
      "Parameters: { \"min_samples_leaf\", \"min_samples_split\", \"use_label_encoder\" } are not used.\n",
      "\n",
      "  warnings.warn(smsg, UserWarning)\n"
     ]
    },
    {
     "name": "stdout",
     "output_type": "stream",
     "text": [
      "[CV] END model__max_depth=None, model__min_samples_leaf=1, model__min_samples_split=2, model__n_estimators=100; total time=   0.7s\n"
     ]
    },
    {
     "name": "stderr",
     "output_type": "stream",
     "text": [
      "/Users/sakshiii/Library/Python/3.9/lib/python/site-packages/xgboost/core.py:158: UserWarning: [00:21:47] WARNING: /Users/runner/work/xgboost/xgboost/src/learner.cc:740: \n",
      "Parameters: { \"min_samples_leaf\", \"min_samples_split\", \"use_label_encoder\" } are not used.\n",
      "\n",
      "  warnings.warn(smsg, UserWarning)\n"
     ]
    },
    {
     "name": "stdout",
     "output_type": "stream",
     "text": [
      "[CV] END model__max_depth=None, model__min_samples_leaf=1, model__min_samples_split=2, model__n_estimators=100; total time=   0.8s\n"
     ]
    },
    {
     "name": "stderr",
     "output_type": "stream",
     "text": [
      "/Users/sakshiii/Library/Python/3.9/lib/python/site-packages/xgboost/core.py:158: UserWarning: [00:21:47] WARNING: /Users/runner/work/xgboost/xgboost/src/learner.cc:740: \n",
      "Parameters: { \"min_samples_leaf\", \"min_samples_split\", \"use_label_encoder\" } are not used.\n",
      "\n",
      "  warnings.warn(smsg, UserWarning)\n"
     ]
    },
    {
     "name": "stdout",
     "output_type": "stream",
     "text": [
      "[CV] END model__max_depth=None, model__min_samples_leaf=1, model__min_samples_split=2, model__n_estimators=200; total time=   1.3s\n",
      "[CV] END model__max_depth=None, model__min_samples_leaf=1, model__min_samples_split=2, model__n_estimators=200; total time=   1.2s\n",
      "[CV] END model__max_depth=None, model__min_samples_leaf=1, model__min_samples_split=5, model__n_estimators=100; total time=   0.7s\n"
     ]
    },
    {
     "name": "stderr",
     "output_type": "stream",
     "text": [
      "/Users/sakshiii/Library/Python/3.9/lib/python/site-packages/xgboost/core.py:158: UserWarning: [00:21:48] WARNING: /Users/runner/work/xgboost/xgboost/src/learner.cc:740: \n",
      "Parameters: { \"min_samples_leaf\", \"min_samples_split\", \"use_label_encoder\" } are not used.\n",
      "\n",
      "  warnings.warn(smsg, UserWarning)\n",
      "/Users/sakshiii/Library/Python/3.9/lib/python/site-packages/xgboost/core.py:158: UserWarning: [00:21:48] WARNING: /Users/runner/work/xgboost/xgboost/src/learner.cc:740: \n",
      "Parameters: { \"min_samples_leaf\", \"min_samples_split\", \"use_label_encoder\" } are not used.\n",
      "\n",
      "  warnings.warn(smsg, UserWarning)\n",
      "/Users/sakshiii/Library/Python/3.9/lib/python/site-packages/xgboost/core.py:158: UserWarning: [00:21:48] WARNING: /Users/runner/work/xgboost/xgboost/src/learner.cc:740: \n",
      "Parameters: { \"min_samples_leaf\", \"min_samples_split\", \"use_label_encoder\" } are not used.\n",
      "\n",
      "  warnings.warn(smsg, UserWarning)\n"
     ]
    },
    {
     "name": "stdout",
     "output_type": "stream",
     "text": [
      "[CV] END model__max_depth=None, model__min_samples_leaf=1, model__min_samples_split=2, model__n_estimators=200; total time=   1.3s\n",
      "[CV] END model__max_depth=20, model__min_samples_leaf=2, model__min_samples_split=2, model__n_estimators=200; total time=   6.4s\n"
     ]
    },
    {
     "name": "stderr",
     "output_type": "stream",
     "text": [
      "/Users/sakshiii/Library/Python/3.9/lib/python/site-packages/xgboost/core.py:158: UserWarning: [00:21:48] WARNING: /Users/runner/work/xgboost/xgboost/src/learner.cc:740: \n",
      "Parameters: { \"min_samples_leaf\", \"min_samples_split\", \"use_label_encoder\" } are not used.\n",
      "\n",
      "  warnings.warn(smsg, UserWarning)\n",
      "/Users/sakshiii/Library/Python/3.9/lib/python/site-packages/xgboost/core.py:158: UserWarning: [00:21:48] WARNING: /Users/runner/work/xgboost/xgboost/src/learner.cc:740: \n",
      "Parameters: { \"min_samples_leaf\", \"min_samples_split\", \"use_label_encoder\" } are not used.\n",
      "\n",
      "  warnings.warn(smsg, UserWarning)\n"
     ]
    },
    {
     "name": "stdout",
     "output_type": "stream",
     "text": [
      "[CV] END model__max_depth=None, model__min_samples_leaf=1, model__min_samples_split=5, model__n_estimators=100; total time=   0.7s\n",
      "[CV] END model__max_depth=20, model__min_samples_leaf=2, model__min_samples_split=5, model__n_estimators=200; total time=   6.3s\n",
      "[CV] END model__max_depth=None, model__min_samples_leaf=1, model__min_samples_split=5, model__n_estimators=100; total time=   0.7s\n"
     ]
    },
    {
     "name": "stderr",
     "output_type": "stream",
     "text": [
      "/Users/sakshiii/Library/Python/3.9/lib/python/site-packages/xgboost/core.py:158: UserWarning: [00:21:48] WARNING: /Users/runner/work/xgboost/xgboost/src/learner.cc:740: \n",
      "Parameters: { \"min_samples_leaf\", \"min_samples_split\", \"use_label_encoder\" } are not used.\n",
      "\n",
      "  warnings.warn(smsg, UserWarning)\n",
      "/Users/sakshiii/Library/Python/3.9/lib/python/site-packages/xgboost/core.py:158: UserWarning: [00:21:48] WARNING: /Users/runner/work/xgboost/xgboost/src/learner.cc:740: \n",
      "Parameters: { \"min_samples_leaf\", \"min_samples_split\", \"use_label_encoder\" } are not used.\n",
      "\n",
      "  warnings.warn(smsg, UserWarning)\n",
      "/Users/sakshiii/Library/Python/3.9/lib/python/site-packages/xgboost/core.py:158: UserWarning: [00:21:48] WARNING: /Users/runner/work/xgboost/xgboost/src/learner.cc:740: \n",
      "Parameters: { \"min_samples_leaf\", \"min_samples_split\", \"use_label_encoder\" } are not used.\n",
      "\n",
      "  warnings.warn(smsg, UserWarning)\n"
     ]
    },
    {
     "name": "stdout",
     "output_type": "stream",
     "text": [
      "[CV] END model__max_depth=None, model__min_samples_leaf=1, model__min_samples_split=5, model__n_estimators=200; total time=   1.2s\n",
      "[CV] END model__max_depth=None, model__min_samples_leaf=2, model__min_samples_split=2, model__n_estimators=100; total time=   0.7s\n",
      "[CV] END model__max_depth=None, model__min_samples_leaf=2, model__min_samples_split=2, model__n_estimators=100; total time=   0.6s\n"
     ]
    },
    {
     "name": "stderr",
     "output_type": "stream",
     "text": [
      "/Users/sakshiii/Library/Python/3.9/lib/python/site-packages/xgboost/core.py:158: UserWarning: [00:21:49] WARNING: /Users/runner/work/xgboost/xgboost/src/learner.cc:740: \n",
      "Parameters: { \"min_samples_leaf\", \"min_samples_split\", \"use_label_encoder\" } are not used.\n",
      "\n",
      "  warnings.warn(smsg, UserWarning)\n",
      "/Users/sakshiii/Library/Python/3.9/lib/python/site-packages/xgboost/core.py:158: UserWarning: [00:21:49] WARNING: /Users/runner/work/xgboost/xgboost/src/learner.cc:740: \n",
      "Parameters: { \"min_samples_leaf\", \"min_samples_split\", \"use_label_encoder\" } are not used.\n",
      "\n",
      "  warnings.warn(smsg, UserWarning)\n",
      "/Users/sakshiii/Library/Python/3.9/lib/python/site-packages/xgboost/core.py:158: UserWarning: [00:21:49] WARNING: /Users/runner/work/xgboost/xgboost/src/learner.cc:740: \n",
      "Parameters: { \"min_samples_leaf\", \"min_samples_split\", \"use_label_encoder\" } are not used.\n",
      "\n",
      "  warnings.warn(smsg, UserWarning)\n"
     ]
    },
    {
     "name": "stdout",
     "output_type": "stream",
     "text": [
      "[CV] END model__max_depth=None, model__min_samples_leaf=2, model__min_samples_split=2, model__n_estimators=100; total time=   0.7s\n",
      "[CV] END model__max_depth=None, model__min_samples_leaf=1, model__min_samples_split=5, model__n_estimators=200; total time=   1.2s\n",
      "[CV] END model__max_depth=None, model__min_samples_leaf=1, model__min_samples_split=5, model__n_estimators=200; total time=   1.2s\n"
     ]
    },
    {
     "name": "stderr",
     "output_type": "stream",
     "text": [
      "/Users/sakshiii/Library/Python/3.9/lib/python/site-packages/xgboost/core.py:158: UserWarning: [00:21:49] WARNING: /Users/runner/work/xgboost/xgboost/src/learner.cc:740: \n",
      "Parameters: { \"min_samples_leaf\", \"min_samples_split\", \"use_label_encoder\" } are not used.\n",
      "\n",
      "  warnings.warn(smsg, UserWarning)\n",
      "/Users/sakshiii/Library/Python/3.9/lib/python/site-packages/xgboost/core.py:158: UserWarning: [00:21:49] WARNING: /Users/runner/work/xgboost/xgboost/src/learner.cc:740: \n",
      "Parameters: { \"min_samples_leaf\", \"min_samples_split\", \"use_label_encoder\" } are not used.\n",
      "\n",
      "  warnings.warn(smsg, UserWarning)\n",
      "/Users/sakshiii/Library/Python/3.9/lib/python/site-packages/xgboost/core.py:158: UserWarning: [00:21:49] WARNING: /Users/runner/work/xgboost/xgboost/src/learner.cc:740: \n",
      "Parameters: { \"min_samples_leaf\", \"min_samples_split\", \"use_label_encoder\" } are not used.\n",
      "\n",
      "  warnings.warn(smsg, UserWarning)\n"
     ]
    },
    {
     "name": "stdout",
     "output_type": "stream",
     "text": [
      "[CV] END model__max_depth=20, model__min_samples_leaf=2, model__min_samples_split=5, model__n_estimators=200; total time=   6.0s\n"
     ]
    },
    {
     "name": "stderr",
     "output_type": "stream",
     "text": [
      "/Users/sakshiii/Library/Python/3.9/lib/python/site-packages/xgboost/core.py:158: UserWarning: [00:21:49] WARNING: /Users/runner/work/xgboost/xgboost/src/learner.cc:740: \n",
      "Parameters: { \"min_samples_leaf\", \"min_samples_split\", \"use_label_encoder\" } are not used.\n",
      "\n",
      "  warnings.warn(smsg, UserWarning)\n"
     ]
    },
    {
     "name": "stdout",
     "output_type": "stream",
     "text": [
      "[CV] END model__max_depth=None, model__min_samples_leaf=2, model__min_samples_split=5, model__n_estimators=100; total time=   0.7s\n",
      "[CV] END model__max_depth=None, model__min_samples_leaf=2, model__min_samples_split=5, model__n_estimators=100; total time=   0.7s\n",
      "[CV] END model__max_depth=None, model__min_samples_leaf=2, model__min_samples_split=5, model__n_estimators=100; total time=   0.8s\n"
     ]
    },
    {
     "name": "stderr",
     "output_type": "stream",
     "text": [
      "/Users/sakshiii/Library/Python/3.9/lib/python/site-packages/xgboost/core.py:158: UserWarning: [00:21:50] WARNING: /Users/runner/work/xgboost/xgboost/src/learner.cc:740: \n",
      "Parameters: { \"min_samples_leaf\", \"min_samples_split\", \"use_label_encoder\" } are not used.\n",
      "\n",
      "  warnings.warn(smsg, UserWarning)\n",
      "/Users/sakshiii/Library/Python/3.9/lib/python/site-packages/xgboost/core.py:158: UserWarning: [00:21:50] WARNING: /Users/runner/work/xgboost/xgboost/src/learner.cc:740: \n",
      "Parameters: { \"min_samples_leaf\", \"min_samples_split\", \"use_label_encoder\" } are not used.\n",
      "\n",
      "  warnings.warn(smsg, UserWarning)\n"
     ]
    },
    {
     "name": "stdout",
     "output_type": "stream",
     "text": [
      "[CV] END model__max_depth=None, model__min_samples_leaf=2, model__min_samples_split=2, model__n_estimators=200; total time=   1.2s\n",
      "[CV] END model__max_depth=None, model__min_samples_leaf=2, model__min_samples_split=2, model__n_estimators=200; total time=   1.3s\n",
      "[CV] END model__max_depth=None, model__min_samples_leaf=2, model__min_samples_split=2, model__n_estimators=200; total time=   1.2s\n",
      "[CV] END model__max_depth=None, model__min_samples_leaf=2, model__min_samples_split=5, model__n_estimators=200; total time=   1.1s\n",
      "[CV] END model__max_depth=None, model__min_samples_leaf=2, model__min_samples_split=5, model__n_estimators=200; total time=   0.9s\n",
      "[CV] END model__max_depth=None, model__min_samples_leaf=2, model__min_samples_split=5, model__n_estimators=200; total time=   0.8s\n",
      "[CV] END model__max_depth=20, model__min_samples_leaf=2, model__min_samples_split=5, model__n_estimators=200; total time=   5.3s\n",
      "\n",
      "Best Parameters: {'model__max_depth': 20, 'model__min_samples_leaf': 1, 'model__min_samples_split': 2, 'model__n_estimators': 200}\n",
      "\n",
      "Validation Precision after Hyperparameter Tuning: 0.2503\n",
      "\n",
      "Classification Report for Best Model:\n",
      "              precision    recall  f1-score   support\n",
      "\n",
      "           0       0.99      0.95      0.97     56931\n",
      "           1       0.25      0.70      0.37      1316\n",
      "\n",
      "    accuracy                           0.95     58247\n",
      "   macro avg       0.62      0.83      0.67     58247\n",
      "weighted avg       0.98      0.95      0.96     58247\n",
      "\n"
     ]
    },
    {
     "data": {
      "image/png": "[encoded data removed]",
      "text/plain": [
       "<Figure size 600x400 with 2 Axes>"
      ]
     },
     "metadata": {},
     "output_type": "display_data"
    }
   ],
   "source": [
    "# Define the parameter grid for Random Forest\n",
    "param_grid = {\n",
    "    'model__n_estimators': [100, 200],\n",
    "    'model__max_depth': [10, 20, None],\n",
    "    'model__min_samples_split': [2, 5],\n",
    "    'model__min_samples_leaf': [1, 2],\n",
    "}\n",
    "\n",
    "# Initialize GridSearchCV\n",
    "grid_search = GridSearchCV(estimator=pipeline,\n",
    "                           param_grid=param_grid,\n",
    "                           scoring='precision',\n",
    "                           cv=3,\n",
    "                           n_jobs=-1,\n",
    "                           verbose=2)\n",
    "\n",
    "# Perform grid search\n",
    "grid_search.fit(X_train, y_train)\n",
    "\n",
    "# Best parameters found\n",
    "print(f\"\\nBest Parameters: {grid_search.best_params_}\")\n",
    "\n",
    "# Best estimator\n",
    "best_model = grid_search.best_estimator_\n",
    "\n",
    "# Predict on the validation set using the best model\n",
    "y_pred_best = best_model.predict(X_val)\n",
    "\n",
    "# Evaluate the best model\n",
    "precision_best = precision_score(y_val, y_pred_best)\n",
    "print(f'\\nValidation Precision after Hyperparameter Tuning: {precision_best:.4f}')\n",
    "\n",
    "print(\"\\nClassification Report for Best Model:\")\n",
    "print(classification_report(y_val, y_pred_best))\n",
    "\n",
    "# Display confusion matrix for the best model\n",
    "plt.figure(figsize=(6,4))\n",
    "sns.heatmap(confusion_matrix(y_val, y_pred_best), annot=True, fmt='d', cmap='Greens')\n",
    "plt.title('Confusion Matrix - Best Model')\n",
    "plt.xlabel('Predicted')\n",
    "plt.ylabel('Actual')\n",
    "plt.show()\n"
   ]
  },
  {
   "cell_type": "code",
   "execution_count": 9,
   "metadata": {},
   "outputs": [
    {
     "name": "stdout",
     "output_type": "stream",
     "text": [
      "\n",
      "Precision with SMOTEENN: 0.0443\n",
      "\n",
      "Classification Report for SMOTEENN:\n",
      "              precision    recall  f1-score   support\n",
      "\n",
      "           0       1.00      0.56      0.72     56931\n",
      "           1       0.04      0.89      0.08      1316\n",
      "\n",
      "    accuracy                           0.57     58247\n",
      "   macro avg       0.52      0.72      0.40     58247\n",
      "weighted avg       0.97      0.57      0.70     58247\n",
      "\n"
     ]
    },
    {
     "data": {
      "image/png": "[encoded data removed]",
      "text/plain": [
       "<Figure size 600x400 with 2 Axes>"
      ]
     },
     "metadata": {},
     "output_type": "display_data"
    }
   ],
   "source": [
    "# Using SMOTEENN for a more balanced dataset\n",
    "smote_enn = SMOTEENN(random_state=42)\n",
    "X_resampled, y_resampled = smote_enn.fit_resample(X_train, y_train)\n",
    "\n",
    "# Create a new pipeline with the resampled data\n",
    "pipeline_smote_enn = Pipeline(steps=[('scaler', StandardScaler()), \n",
    "                                     ('model', XGBClassifier(scale_pos_weight=10, use_label_encoder=False, eval_metric='logloss'))])\n",
    "\n",
    "# Fit the model on resampled data\n",
    "pipeline_smote_enn.fit(X_resampled, y_resampled)\n",
    "\n",
    "# Predict on the validation set\n",
    "y_pred_smote_enn = pipeline_smote_enn.predict(X_val)\n",
    "\n",
    "# Evaluate the model\n",
    "precision_smote_enn = precision_score(y_val, y_pred_smote_enn)\n",
    "print(f'\\nPrecision with SMOTEENN: {precision_smote_enn:.4f}')\n",
    "\n",
    "# Display classification report and confusion matrix for SMOTEENN\n",
    "print(\"\\nClassification Report for SMOTEENN:\")\n",
    "print(classification_report(y_val, y_pred_smote_enn))\n",
    "\n",
    "# Confusion matrix for SMOTEENN\n",
    "plt.figure(figsize=(6,4))\n",
    "sns.heatmap(confusion_matrix(y_val, y_pred_smote_enn), annot=True, fmt='d', cmap='Purples')\n",
    "plt.title('Confusion Matrix - SMOTEENN')\n",
    "plt.xlabel('Predicted')\n",
    "plt.ylabel('Actual')\n",
    "plt.show()\n"
   ]
  },
  {
   "cell_type": "code",
   "execution_count": 10,
   "metadata": {},
   "outputs": [
    {
     "name": "stdout",
     "output_type": "stream",
     "text": [
      "Precision with Isolation Forest: 0.0205\n"
     ]
    }
   ],
   "source": [
    "from sklearn.ensemble import IsolationForest\n",
    "\n",
    "iso_forest = IsolationForest(contamination=0.01, random_state=42)\n",
    "iso_forest.fit(X_train)\n",
    "\n",
    "y_pred_iso = iso_forest.predict(X_val)\n",
    "# Convert -1 (outlier) to 1 (fraud) and 1 (inlier) to 0 (not fraud)\n",
    "y_pred_iso = np.where(y_pred_iso == -1, 1, 0)\n",
    "precision_iso = precision_score(y_val, y_pred_iso)\n",
    "print(f'Precision with Isolation Forest: {precision_iso:.4f}')\n"
   ]
  },
  {
   "cell_type": "code",
   "execution_count": null,
   "metadata": {},
   "outputs": [],
   "source": []
  }
 ],
 "metadata": {
  "kernelspec": {
   "display_name": "Python 3",
   "language": "python",
   "name": "python3"
  },
  "language_info": {
   "codemirror_mode": {
    "name": "ipython",
    "version": 3
   },
   "file_extension": ".py",
   "mimetype": "text/x-python",
   "name": "python",
   "nbconvert_exporter": "python",
   "pygments_lexer": "ipython3",
   "version": "3.9.6"
  }
 },
 "nbformat": 4,
 "nbformat_minor": 2
}
